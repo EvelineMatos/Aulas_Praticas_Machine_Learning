{
  "nbformat": 4,
  "nbformat_minor": 0,
  "metadata": {
    "colab": {
      "name": "Aula prática 3 - Validação cruzada.ipynb",
      "provenance": [],
      "collapsed_sections": []
    },
    "kernelspec": {
      "name": "python3",
      "display_name": "Python 3"
    }
  },
  "cells": [
    {
      "cell_type": "code",
      "metadata": {
        "id": "w3_rYa7Vw_E7",
        "colab_type": "code",
        "colab": {
          "base_uri": "https://localhost:8080/",
          "height": 268
        },
        "outputId": "ac5e9d3e-4932-4ee6-f49c-068d576dca9d"
      },
      "source": [
        "#importando as bibliotecas\n",
        "from sklearn.datasets import load_wine\n",
        "wine = load_wine()\n",
        "\n",
        "#Exemplo de acesso aos dados\n",
        "X = wine.data[:, :]#Features de cada elemento\n",
        "y = wine.target #Classes de cada elemento\n",
        "\n",
        "#-------------\n",
        "# É preciso terinar o classificador, e testar o seu desempenho com dados \"novos\"\n",
        "# Aqui, dividimos os dados em treino e teste, para podermos testar nosso desempenho depois.\n",
        "\n",
        "from sklearn.model_selection import train_test_split\n",
        "\n",
        "X_train, X_test, y_train, y_test = train_test_split(X, y, test_size=0.33, random_state=42)\n",
        "#O uso dessa função facilita, mas não é obrigatório. Você pode dividir os seus dados manualmente.\n",
        "\n",
        "#_____________\n",
        "#Carregando e treinando os classificadores\n",
        "# Random forests\n",
        "from sklearn.ensemble import RandomForestClassifier\n",
        "rfc = RandomForestClassifier()\n",
        "rfc.fit(X_train,y_train)\n",
        "y_pred = rfc.predict(X_test)\n",
        "\n",
        "# Métricas do Random forests\n",
        "from sklearn.metrics import accuracy_score, recall_score, precision_score\n",
        "\n",
        "rfc_acc = round(accuracy_score(y_test, y_pred), 6)#round é para arredondar\n",
        "rfc_recall = round(recall_score(y_test, y_pred, average='weighted'),6)\n",
        "rcf_precision = round(precision_score(y_test, y_pred, average='weighted'),6)\n",
        "\n",
        "#--------------------------\n",
        "# KNN\n",
        "from sklearn.neighbors import KNeighborsClassifier\n",
        "knn = KNeighborsClassifier(n_neighbors=3)\n",
        "knn.fit(X_train, y_train)\n",
        "y_pred = knn.predict(X_test)\n",
        "\n",
        "# Métricas do KNN\n",
        "knn_acc = round(accuracy_score(y_test, y_pred), 6)#round é para arredondar\n",
        "knn_recall = round(recall_score(y_test, y_pred, average='weighted'),6)\n",
        "knn_precision = round(precision_score(y_test, y_pred, average='weighted'),6)\n",
        "\n",
        "# ---------------------\n",
        "# Comparação\n",
        "print(\"KNN vs Random Forestts\\n\")\n",
        "print(\"Classes: {0}\\n\".format(wine.target_names))\n",
        "print(\"Acurácia: {0} vs {1}\".format(knn_acc, rfc_acc))\n",
        "print(\"Recall: {0} vs {1}\".format(knn_recall, rfc_recall))\n",
        "print(\"Precision: {0} vs {1}\".format(knn_precision, rcf_precision))\n",
        "\n",
        "# ---------------\n",
        "# Na validação cruzada\n",
        "from sklearn.model_selection import cross_val_score\n",
        "cv_rfc = cross_val_score(rfc, X, y)\n",
        "cv_knn = cross_val_score(knn, X, y)\n",
        "print(\"\\nValidação cruzada: {0} vs {1}\".format(cv_knn, cv_rfc))\n",
        "\n",
        "# Soma das validações cruzadas\n",
        "sum_cv_rfc = 0\n",
        "for cv_score in cv_rfc:\n",
        "  sum_cv_rfc += cv_score\n",
        "\n",
        "print(\"\\nResultado Random Forest: {0}\".format(sum_cv_rfc/5))\n",
        "\n",
        "# Soma das validações cruzadas\n",
        "sum_cv_knn = 0\n",
        "for cv_score in cv_knn:\n",
        "  sum_cv_knn += cv_score\n",
        "\n",
        "print(\"\\nResultado KNN: {0}\".format(sum_cv_knn/5))"
      ],
      "execution_count": null,
      "outputs": [
        {
          "output_type": "stream",
          "text": [
            "KNN vs Random Forestts\n",
            "\n",
            "Classes: ['class_0' 'class_1' 'class_2']\n",
            "\n",
            "Acurácia: 0.694915 vs 1.0\n",
            "Recall: 0.694915 vs 1.0\n",
            "Precision: 0.698231 vs 1.0\n",
            "\n",
            "Validação cruzada: [0.63888889 0.69444444 0.66666667 0.65714286 0.85714286] vs [0.97222222 0.94444444 0.94444444 0.97142857 1.        ]\n",
            "\n",
            "Resultado Random Forest: 0.9665079365079364\n",
            "\n",
            "Resultado KNN: 0.7028571428571428\n"
          ],
          "name": "stdout"
        }
      ]
    }
  ]
}